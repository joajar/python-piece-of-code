{
 "cells": [
  {
   "cell_type": "markdown",
   "metadata": {},
   "source": [
    "# Klasyfikacja Irysów\n",
    "\n",
    "Klasyfikowanie Irysów na podstawie zbioru *Iris* tekstowych danych Fishera to prawdopodobnie najbardziej klasyczne zadanie klasyfikacji. Poniżej przedstawię budowę prostego modelu klasyfikacji tego zbioru z pomocą modułu `Keras` zaimportowanego z biblioteki `TensorFlow 2`. Zdecydowałam się na zastosowanie zbioru *Iris*, `TensorFlow 2` i `Kerasa`, aby być jak najbliżej przedstawionych wymagań, pomimo iż półtora roku przygotowałam kilka projektów z Deep Learning z zastosowaniem biblioteki `PyTorch`, w ramach szkolenia przygotowanego przez portal edukacyjnemy *Udacity*."
   ]
  },
  {
   "cell_type": "markdown",
   "metadata": {},
   "source": [
    "Zacznę od zaimportowania niezbędnych bibliotek i modułów:"
   ]
  },
  {
   "cell_type": "code",
   "execution_count": 1,
   "metadata": {},
   "outputs": [],
   "source": [
    "from tensorflow import keras as kr\n",
    "import numpy as np\n",
    "import pandas as pd\n",
    "import matplotlib.pyplot as plt\n",
    "from sklearn.model_selection import train_test_split"
   ]
  },
  {
   "cell_type": "markdown",
   "metadata": {},
   "source": [
    "Wprawdzie `TensorFlow` zawiera wbudowane dane *Iris* pochodzące z <a href=\"http://archive.ics.uci.edu/ml\" target=\"_blank\">UCI Machine Learning Repository</a>, jednak z kilku źródeł, np. z \n",
    "<a href=\"https://en.wikipedia.org/wiki/Iris_flower_data_set\" target=\"_blank\">Wikipedii</a>\n",
    "wiadomo, że w repozytorium tym znajdują się dwa błędy. Dlatego dane *Iris* zaczerpnę z `scikit-learn`: "
   ]
  },
  {
   "cell_type": "code",
   "execution_count": 2,
   "metadata": {},
   "outputs": [],
   "source": [
    "from sklearn.datasets import load_iris\n",
    "iris_dataset = load_iris()"
   ]
  },
  {
   "cell_type": "markdown",
   "metadata": {},
   "source": [
    "Funkcja `load_iris` zwraca obiekt biblioteki `scikit-learn` typu <a href=\"https://scikit-learn.org/stable/modules/generated/sklearn.utils.Bunch.html?highlight=bunch#sklearn.utils.Bunch\" target=\"_blank\">Bunch</a> rozszerzający znany z Pythona słownik. Pod jednym z kluczy, `DESC`, można w tym obiekcie tym znaleźć opis zbioru danych *Iris*, a w nim wzmiankę o wyżej wspominanym błędzie:"
   ]
  },
  {
   "cell_type": "code",
   "execution_count": 3,
   "metadata": {},
   "outputs": [
    {
     "name": "stdout",
     "output_type": "stream",
     "text": [
      "Note that it's the same as in R, but not as in the UCI\n",
      "Machine Learning Repository, which has two wrong data points.\n"
     ]
    }
   ],
   "source": [
    "print(iris_dataset['DESCR'][1309:1425])"
   ]
  },
  {
   "cell_type": "markdown",
   "metadata": {},
   "source": [
    "Interesujące mnie dane znajdują się pod kluczami `data` (to cztery cechy: długości i szerokości płatków i działek) oraz `target` (to etykiety, symbolizowane liczbami 0.0, 1.0, 2.0, odpowiadające, kolejno, nazwom gatunków: Setosa, Versicolor i Virginica."
   ]
  },
  {
   "cell_type": "code",
   "execution_count": 4,
   "metadata": {},
   "outputs": [
    {
     "data": {
      "text/html": [
       "<div>\n",
       "<style scoped>\n",
       "    .dataframe tbody tr th:only-of-type {\n",
       "        vertical-align: middle;\n",
       "    }\n",
       "\n",
       "    .dataframe tbody tr th {\n",
       "        vertical-align: top;\n",
       "    }\n",
       "\n",
       "    .dataframe thead th {\n",
       "        text-align: right;\n",
       "    }\n",
       "</style>\n",
       "<table border=\"1\" class=\"dataframe\">\n",
       "  <thead>\n",
       "    <tr style=\"text-align: right;\">\n",
       "      <th></th>\n",
       "      <th>sepal length (cm)</th>\n",
       "      <th>sepal width (cm)</th>\n",
       "      <th>petal length (cm)</th>\n",
       "      <th>petal width (cm)</th>\n",
       "      <th>target</th>\n",
       "    </tr>\n",
       "  </thead>\n",
       "  <tbody>\n",
       "    <tr>\n",
       "      <th>0</th>\n",
       "      <td>5.1</td>\n",
       "      <td>3.5</td>\n",
       "      <td>1.4</td>\n",
       "      <td>0.2</td>\n",
       "      <td>0.0</td>\n",
       "    </tr>\n",
       "    <tr>\n",
       "      <th>1</th>\n",
       "      <td>4.9</td>\n",
       "      <td>3.0</td>\n",
       "      <td>1.4</td>\n",
       "      <td>0.2</td>\n",
       "      <td>0.0</td>\n",
       "    </tr>\n",
       "    <tr>\n",
       "      <th>2</th>\n",
       "      <td>4.7</td>\n",
       "      <td>3.2</td>\n",
       "      <td>1.3</td>\n",
       "      <td>0.2</td>\n",
       "      <td>0.0</td>\n",
       "    </tr>\n",
       "    <tr>\n",
       "      <th>3</th>\n",
       "      <td>4.6</td>\n",
       "      <td>3.1</td>\n",
       "      <td>1.5</td>\n",
       "      <td>0.2</td>\n",
       "      <td>0.0</td>\n",
       "    </tr>\n",
       "    <tr>\n",
       "      <th>4</th>\n",
       "      <td>5.0</td>\n",
       "      <td>3.6</td>\n",
       "      <td>1.4</td>\n",
       "      <td>0.2</td>\n",
       "      <td>0.0</td>\n",
       "    </tr>\n",
       "  </tbody>\n",
       "</table>\n",
       "</div>"
      ],
      "text/plain": [
       "   sepal length (cm)  sepal width (cm)  petal length (cm)  petal width (cm)  \\\n",
       "0                5.1               3.5                1.4               0.2   \n",
       "1                4.9               3.0                1.4               0.2   \n",
       "2                4.7               3.2                1.3               0.2   \n",
       "3                4.6               3.1                1.5               0.2   \n",
       "4                5.0               3.6                1.4               0.2   \n",
       "\n",
       "   target  \n",
       "0     0.0  \n",
       "1     0.0  \n",
       "2     0.0  \n",
       "3     0.0  \n",
       "4     0.0  "
      ]
     },
     "execution_count": 4,
     "metadata": {},
     "output_type": "execute_result"
    }
   ],
   "source": [
    "iris_df = pd.DataFrame(data=np.c_[iris_dataset['data'], iris_dataset['target']],\n",
    "                       columns=iris_dataset['feature_names'] + ['target'])\n",
    "iris_df.head()"
   ]
  },
  {
   "cell_type": "markdown",
   "metadata": {},
   "source": [
    "Żeby zwizualizować analizowane dane, przygotuję wykres ilustrujący długość (oś pozioma) i szerokość (oś pionowa) działki w podziale na gatunki:"
   ]
  },
  {
   "cell_type": "code",
   "execution_count": 5,
   "metadata": {},
   "outputs": [
    {
     "data": {
      "image/png": "[encoded data removed]",
      "text/plain": [
       "<Figure size 432x288 with 1 Axes>"
      ]
     },
     "metadata": {
      "needs_background": "light"
     },
     "output_type": "display_data"
    }
   ],
   "source": [
    "features = iris_dataset['data'].T\n",
    "plt.scatter(features[0], features[1], c=iris_dataset['target'])\n",
    "plt.show()"
   ]
  },
  {
   "cell_type": "markdown",
   "metadata": {},
   "source": [
    "Przechodząc do budowy sieci neuronowej, zacznę od przygotowania danych w formacie gotowym do łatwego dzielenia na zbiór uczący `train` (o rozmiarze 105 rekordów) i zbiór testowy `test` (zawierający pozostałe rekordy):"
   ]
  },
  {
   "cell_type": "code",
   "execution_count": 6,
   "metadata": {},
   "outputs": [],
   "source": [
    "iris_contatenated = np.concatenate((iris_dataset['data'], \n",
    "                                    kr.utils.to_categorical(iris_dataset['target'])), \n",
    "                                   axis=1)"
   ]
  },
  {
   "cell_type": "code",
   "execution_count": 7,
   "metadata": {},
   "outputs": [],
   "source": [
    "test_size_proportion = 0.3\n",
    "\n",
    "train, test = train_test_split(iris_contatenated, \n",
    "                               random_state=42, \n",
    "                               test_size=test_size_proportion)"
   ]
  },
  {
   "cell_type": "code",
   "execution_count": 8,
   "metadata": {},
   "outputs": [],
   "source": [
    "inputs_train, outputs_categorical_train = train[:, :4], train[:, 4:7]\n",
    "inputs_test, outputs_categorical_test = test[:, :4], test[:, 4:7]"
   ]
  },
  {
   "cell_type": "markdown",
   "metadata": {},
   "source": [
    "Skonstruuję teraz dwuwarstwową sieć neuronową używając warstw, które są zawarte w `tensorflow.keras.layers`. Użyję dwóch warstw: pierwsza przekształci 4 cechy zbioru danych *Iris* w 16 neuronów, zaś druga dokona dalszego przekształcenia na kolejne 3 neurony, które posłużącą do identyfikacji poszczególnych gatunków:"
   ]
  },
  {
   "cell_type": "code",
   "execution_count": 9,
   "metadata": {},
   "outputs": [
    {
     "name": "stdout",
     "output_type": "stream",
     "text": [
      "Model: \"sequential\"\n",
      "_________________________________________________________________\n",
      "Layer (type)                 Output Shape              Param #   \n",
      "=================================================================\n",
      "hidden_layer_1 (Dense)       (None, 16)                80        \n",
      "_________________________________________________________________\n",
      "hidden_layer_2 (Dense)       (None, 3)                 51        \n",
      "=================================================================\n",
      "Total params: 131\n",
      "Trainable params: 131\n",
      "Non-trainable params: 0\n",
      "_________________________________________________________________\n"
     ]
    }
   ],
   "source": [
    "model = kr.Sequential()\n",
    "model.add(kr.layers.Dense(16, \n",
    "                          name='hidden_layer_1',\n",
    "                          activation='sigmoid', \n",
    "                          input_shape=(4,)))\n",
    "model.add(kr.layers.Dense(3, \n",
    "                          name='hidden_layer_2',\n",
    "                          activation='softmax'))\n",
    "\n",
    "model.compile(optimizer=\"adam\", \n",
    "              loss=\"categorical_crossentropy\", \n",
    "              metrics=[\"accuracy\"])\n",
    "\n",
    "model.summary()"
   ]
  },
  {
   "cell_type": "markdown",
   "metadata": {},
   "source": [
    "Ustalę parametry modelu, a następnie wytrenuję go."
   ]
  },
  {
   "cell_type": "code",
   "execution_count": 10,
   "metadata": {},
   "outputs": [
    {
     "name": "stdout",
     "output_type": "stream",
     "text": [
      "Epoch 1/100\n",
      "105/105 [==============================] - 1s 923us/step - loss: 1.2454 - accuracy: 0.4812\n",
      "Epoch 2/100\n",
      "105/105 [==============================] - 0s 852us/step - loss: 1.0728 - accuracy: 0.6738\n",
      "Epoch 3/100\n",
      "105/105 [==============================] - 0s 944us/step - loss: 1.0069 - accuracy: 0.7086\n",
      "Epoch 4/100\n",
      "105/105 [==============================] - 0s 893us/step - loss: 0.9825 - accuracy: 0.6569\n",
      "Epoch 5/100\n",
      "105/105 [==============================] - 0s 908us/step - loss: 0.9234 - accuracy: 0.7116\n",
      "Epoch 6/100\n",
      "105/105 [==============================] - 0s 938us/step - loss: 0.8902 - accuracy: 0.7035\n",
      "Epoch 7/100\n",
      "105/105 [==============================] - 0s 914us/step - loss: 0.8253 - accuracy: 0.8366\n",
      "Epoch 8/100\n",
      "105/105 [==============================] - 0s 902us/step - loss: 0.7767 - accuracy: 0.8429\n",
      "Epoch 9/100\n",
      "105/105 [==============================] - 0s 888us/step - loss: 0.7637 - accuracy: 0.7074\n",
      "Epoch 10/100\n",
      "105/105 [==============================] - 0s 865us/step - loss: 0.7022 - accuracy: 0.7504\n",
      "Epoch 11/100\n",
      "105/105 [==============================] - 0s 940us/step - loss: 0.6803 - accuracy: 0.9091\n",
      "Epoch 12/100\n",
      "105/105 [==============================] - 0s 900us/step - loss: 0.6727 - accuracy: 0.8864\n",
      "Epoch 13/100\n",
      "105/105 [==============================] - 0s 948us/step - loss: 0.5851 - accuracy: 0.8000\n",
      "Epoch 14/100\n",
      "105/105 [==============================] - 0s 955us/step - loss: 0.5991 - accuracy: 0.8283\n",
      "Epoch 15/100\n",
      "105/105 [==============================] - 0s 926us/step - loss: 0.5541 - accuracy: 0.8639\n",
      "Epoch 16/100\n",
      "105/105 [==============================] - 0s 924us/step - loss: 0.5508 - accuracy: 0.9130\n",
      "Epoch 17/100\n",
      "105/105 [==============================] - 0s 821us/step - loss: 0.5407 - accuracy: 0.8993\n",
      "Epoch 18/100\n",
      "105/105 [==============================] - 0s 941us/step - loss: 0.5577 - accuracy: 0.9353\n",
      "Epoch 19/100\n",
      "105/105 [==============================] - 0s 941us/step - loss: 0.5041 - accuracy: 0.8261\n",
      "Epoch 20/100\n",
      "105/105 [==============================] - 0s 907us/step - loss: 0.4985 - accuracy: 0.9370\n",
      "Epoch 21/100\n",
      "105/105 [==============================] - 0s 940us/step - loss: 0.4794 - accuracy: 0.9300\n",
      "Epoch 22/100\n",
      "105/105 [==============================] - 0s 937us/step - loss: 0.4621 - accuracy: 0.9677\n",
      "Epoch 23/100\n",
      "105/105 [==============================] - 0s 869us/step - loss: 0.4707 - accuracy: 0.8862\n",
      "Epoch 24/100\n",
      "105/105 [==============================] - 0s 878us/step - loss: 0.4829 - accuracy: 0.8497\n",
      "Epoch 25/100\n",
      "105/105 [==============================] - 0s 857us/step - loss: 0.4447 - accuracy: 0.9880\n",
      "Epoch 26/100\n",
      "105/105 [==============================] - 0s 889us/step - loss: 0.4744 - accuracy: 0.9693\n",
      "Epoch 27/100\n",
      "105/105 [==============================] - 0s 883us/step - loss: 0.4341 - accuracy: 0.9413\n",
      "Epoch 28/100\n",
      "105/105 [==============================] - 0s 982us/step - loss: 0.4128 - accuracy: 0.9793\n",
      "Epoch 29/100\n",
      "105/105 [==============================] - 0s 1ms/step - loss: 0.4022 - accuracy: 0.9466\n",
      "Epoch 30/100\n",
      "105/105 [==============================] - 0s 973us/step - loss: 0.3737 - accuracy: 0.9553\n",
      "Epoch 31/100\n",
      "105/105 [==============================] - 0s 859us/step - loss: 0.4180 - accuracy: 0.9566\n",
      "Epoch 32/100\n",
      "105/105 [==============================] - 0s 886us/step - loss: 0.3707 - accuracy: 0.9716\n",
      "Epoch 33/100\n",
      "105/105 [==============================] - 0s 1ms/step - loss: 0.3656 - accuracy: 0.9751\n",
      "Epoch 34/100\n",
      "105/105 [==============================] - 0s 866us/step - loss: 0.3730 - accuracy: 0.9189\n",
      "Epoch 35/100\n",
      "105/105 [==============================] - 0s 828us/step - loss: 0.3615 - accuracy: 0.9463\n",
      "Epoch 36/100\n",
      "105/105 [==============================] - 0s 1ms/step - loss: 0.3327 - accuracy: 0.9550\n",
      "Epoch 37/100\n",
      "105/105 [==============================] - 0s 951us/step - loss: 0.3497 - accuracy: 0.9605\n",
      "Epoch 38/100\n",
      "105/105 [==============================] - 0s 862us/step - loss: 0.3288 - accuracy: 0.9801\n",
      "Epoch 39/100\n",
      "105/105 [==============================] - 0s 923us/step - loss: 0.3465 - accuracy: 0.9578\n",
      "Epoch 40/100\n",
      "105/105 [==============================] - 0s 961us/step - loss: 0.3149 - accuracy: 0.9863\n",
      "Epoch 41/100\n",
      "105/105 [==============================] - 0s 847us/step - loss: 0.3045 - accuracy: 0.9624\n",
      "Epoch 42/100\n",
      "105/105 [==============================] - 0s 942us/step - loss: 0.3233 - accuracy: 0.9498\n",
      "Epoch 43/100\n",
      "105/105 [==============================] - 0s 877us/step - loss: 0.2383 - accuracy: 0.9878\n",
      "Epoch 44/100\n",
      "105/105 [==============================] - 0s 815us/step - loss: 0.2712 - accuracy: 0.9773\n",
      "Epoch 45/100\n",
      "105/105 [==============================] - 0s 884us/step - loss: 0.2868 - accuracy: 0.9727\n",
      "Epoch 46/100\n",
      "105/105 [==============================] - 0s 1ms/step - loss: 0.2669 - accuracy: 0.9638\n",
      "Epoch 47/100\n",
      "105/105 [==============================] - 0s 1ms/step - loss: 0.2818 - accuracy: 0.9861\n",
      "Epoch 48/100\n",
      "105/105 [==============================] - 0s 911us/step - loss: 0.2380 - accuracy: 0.9796\n",
      "Epoch 49/100\n",
      "105/105 [==============================] - 0s 856us/step - loss: 0.3161 - accuracy: 0.9535\n",
      "Epoch 50/100\n",
      "105/105 [==============================] - 0s 831us/step - loss: 0.2411 - accuracy: 0.9554\n",
      "Epoch 51/100\n",
      "105/105 [==============================] - 0s 907us/step - loss: 0.2200 - accuracy: 0.9949\n",
      "Epoch 52/100\n",
      "105/105 [==============================] - 0s 823us/step - loss: 0.2779 - accuracy: 0.9320\n",
      "Epoch 53/100\n",
      "105/105 [==============================] - 0s 941us/step - loss: 0.2424 - accuracy: 0.9807\n",
      "Epoch 54/100\n",
      "105/105 [==============================] - 0s 1ms/step - loss: 0.2446 - accuracy: 0.9909\n",
      "Epoch 55/100\n",
      "105/105 [==============================] - 0s 761us/step - loss: 0.2207 - accuracy: 0.9563\n",
      "Epoch 56/100\n",
      "105/105 [==============================] - 0s 886us/step - loss: 0.2069 - accuracy: 0.9774\n",
      "Epoch 57/100\n",
      "105/105 [==============================] - 0s 869us/step - loss: 0.2019 - accuracy: 0.9793\n",
      "Epoch 58/100\n",
      "105/105 [==============================] - 0s 859us/step - loss: 0.1989 - accuracy: 0.9729\n",
      "Epoch 59/100\n",
      "105/105 [==============================] - 0s 856us/step - loss: 0.1867 - accuracy: 0.9923\n",
      "Epoch 60/100\n",
      "105/105 [==============================] - 0s 947us/step - loss: 0.2080 - accuracy: 0.9615\n",
      "Epoch 61/100\n",
      "105/105 [==============================] - 0s 857us/step - loss: 0.1816 - accuracy: 0.9692\n",
      "Epoch 62/100\n",
      "105/105 [==============================] - 0s 806us/step - loss: 0.1980 - accuracy: 0.9669\n",
      "Epoch 63/100\n",
      "105/105 [==============================] - 0s 1ms/step - loss: 0.1724 - accuracy: 0.9765\n",
      "Epoch 64/100\n",
      "105/105 [==============================] - 0s 1ms/step - loss: 0.1956 - accuracy: 0.9782\n",
      "Epoch 65/100\n",
      "105/105 [==============================] - 0s 1ms/step - loss: 0.1796 - accuracy: 0.9851\n",
      "Epoch 66/100\n",
      "105/105 [==============================] - 0s 2ms/step - loss: 0.2064 - accuracy: 0.9367\n",
      "Epoch 67/100\n",
      "105/105 [==============================] - 0s 1ms/step - loss: 0.1794 - accuracy: 0.9761\n",
      "Epoch 68/100\n",
      "105/105 [==============================] - 0s 826us/step - loss: 0.1845 - accuracy: 0.9730\n",
      "Epoch 69/100\n",
      "105/105 [==============================] - 0s 815us/step - loss: 0.1794 - accuracy: 0.9740\n",
      "Epoch 70/100\n",
      "105/105 [==============================] - 0s 863us/step - loss: 0.1605 - accuracy: 0.9795\n",
      "Epoch 71/100\n",
      "105/105 [==============================] - 0s 854us/step - loss: 0.1872 - accuracy: 0.9625\n",
      "Epoch 72/100\n",
      "105/105 [==============================] - 0s 889us/step - loss: 0.1628 - accuracy: 0.9802\n",
      "Epoch 73/100\n",
      "105/105 [==============================] - 0s 894us/step - loss: 0.1594 - accuracy: 0.9961\n",
      "Epoch 74/100\n",
      "105/105 [==============================] - 0s 828us/step - loss: 0.1350 - accuracy: 0.9699\n",
      "Epoch 75/100\n",
      "105/105 [==============================] - 0s 858us/step - loss: 0.1687 - accuracy: 0.9566\n",
      "Epoch 76/100\n",
      "105/105 [==============================] - 0s 871us/step - loss: 0.1414 - accuracy: 0.9791\n",
      "Epoch 77/100\n",
      "105/105 [==============================] - 0s 869us/step - loss: 0.1317 - accuracy: 0.9833\n",
      "Epoch 78/100\n",
      "105/105 [==============================] - 0s 901us/step - loss: 0.1393 - accuracy: 0.9805\n",
      "Epoch 79/100\n",
      "105/105 [==============================] - 0s 875us/step - loss: 0.1348 - accuracy: 0.9733\n",
      "Epoch 80/100\n"
     ]
    },
    {
     "name": "stdout",
     "output_type": "stream",
     "text": [
      "105/105 [==============================] - 0s 870us/step - loss: 0.1532 - accuracy: 0.9751\n",
      "Epoch 81/100\n",
      "105/105 [==============================] - 0s 1ms/step - loss: 0.1891 - accuracy: 0.9363\n",
      "Epoch 82/100\n",
      "105/105 [==============================] - 0s 829us/step - loss: 0.1183 - accuracy: 0.9879\n",
      "Epoch 83/100\n",
      "105/105 [==============================] - 0s 874us/step - loss: 0.1245 - accuracy: 0.9826\n",
      "Epoch 84/100\n",
      "105/105 [==============================] - 0s 806us/step - loss: 0.1499 - accuracy: 0.9541\n",
      "Epoch 85/100\n",
      "105/105 [==============================] - 0s 805us/step - loss: 0.1121 - accuracy: 0.9895\n",
      "Epoch 86/100\n",
      "105/105 [==============================] - 0s 1ms/step - loss: 0.1430 - accuracy: 0.9866\n",
      "Epoch 87/100\n",
      "105/105 [==============================] - 0s 833us/step - loss: 0.1510 - accuracy: 0.9619\n",
      "Epoch 88/100\n",
      "105/105 [==============================] - 0s 852us/step - loss: 0.1410 - accuracy: 0.9705\n",
      "Epoch 89/100\n",
      "105/105 [==============================] - 0s 895us/step - loss: 0.0911 - accuracy: 0.9957\n",
      "Epoch 90/100\n",
      "105/105 [==============================] - 0s 823us/step - loss: 0.1359 - accuracy: 0.9575\n",
      "Epoch 91/100\n",
      "105/105 [==============================] - 0s 842us/step - loss: 0.1272 - accuracy: 0.9779\n",
      "Epoch 92/100\n",
      "105/105 [==============================] - 0s 927us/step - loss: 0.1182 - accuracy: 0.9559\n",
      "Epoch 93/100\n",
      "105/105 [==============================] - 0s 968us/step - loss: 0.1340 - accuracy: 0.9737\n",
      "Epoch 94/100\n",
      "105/105 [==============================] - 0s 769us/step - loss: 0.1033 - accuracy: 0.9800\n",
      "Epoch 95/100\n",
      "105/105 [==============================] - 0s 782us/step - loss: 0.1411 - accuracy: 0.9538\n",
      "Epoch 96/100\n",
      "105/105 [==============================] - 0s 778us/step - loss: 0.1212 - accuracy: 0.9788\n",
      "Epoch 97/100\n",
      "105/105 [==============================] - 0s 841us/step - loss: 0.1098 - accuracy: 0.9912\n",
      "Epoch 98/100\n",
      "105/105 [==============================] - 0s 1ms/step - loss: 0.1426 - accuracy: 0.9666\n",
      "Epoch 99/100\n",
      "105/105 [==============================] - 0s 2ms/step - loss: 0.1176 - accuracy: 0.9664\n",
      "Epoch 100/100\n",
      "105/105 [==============================] - 0s 1ms/step - loss: 0.0984 - accuracy: 0.9885\n"
     ]
    }
   ],
   "source": [
    "epochs = 100\n",
    "training_size = 150*(1-test_size_proportion)\n",
    "batch_size = 1\n",
    "steps_per_epoch = np.ceil(training_size / batch_size)\n",
    "\n",
    "model_training_history = model.fit(inputs_train,\n",
    "                                   outputs_categorical_train, \n",
    "                                   epochs=epochs,\n",
    "                                   steps_per_epoch=steps_per_epoch, \n",
    "                                   verbose=1)"
   ]
  },
  {
   "cell_type": "markdown",
   "metadata": {},
   "source": [
    "W celu ocenienia jakości wytrenowanego modelu zwizualizuję krzywe uczenia: funkcję straty uczenia i dokładności uczenia:"
   ]
  },
  {
   "cell_type": "code",
   "execution_count": 11,
   "metadata": {},
   "outputs": [
    {
     "data": {
      "image/png": "[encoded data removed]",
      "text/plain": [
       "<Figure size 864x360 with 2 Axes>"
      ]
     },
     "metadata": {
      "needs_background": "light"
     },
     "output_type": "display_data"
    }
   ],
   "source": [
    "hist = model_training_history.history\n",
    "\n",
    "fig = plt.figure(figsize=(12, 5))\n",
    "ax = fig.add_subplot(1, 2, 1)\n",
    "ax.plot(hist['loss'], lw=3)\n",
    "ax.set_title('Funkcja straty uczenia', size=15)\n",
    "ax.set_xlabel('Epoka', size=15)\n",
    "ax.tick_params(axis='both', which='major', labelsize=15)\n",
    "\n",
    "ax = fig.add_subplot(1, 2, 2)\n",
    "ax.plot(hist['accuracy'], lw=3)\n",
    "ax.set_title('Dokładność uczenia', size=15)\n",
    "ax.set_xlabel('Epoka', size=15)\n",
    "ax.tick_params(axis='both', which='major', labelsize=15)\n",
    "plt.tight_layout()\n",
    "\n",
    "plt.show()"
   ]
  },
  {
   "cell_type": "markdown",
   "metadata": {},
   "source": [
    "Powyższe wykresy wyglądają na poprawne, w szczególności nie wskazują na przetrenowanie modelu. \n",
    "<br>\n",
    "Na zakończenie ocenię otrzymany model używając danych testowych."
   ]
  },
  {
   "cell_type": "code",
   "execution_count": 12,
   "metadata": {},
   "outputs": [
    {
     "name": "stdout",
     "output_type": "stream",
     "text": [
      "Funkcja straty obliczona dla danych testowych: 0.0804 \n",
      "Dokładność uczenia obliczona dla danych testowych: 0.9778\n"
     ]
    }
   ],
   "source": [
    "results = model.evaluate(inputs_test, \n",
    "                         outputs_categorical_test, \n",
    "                         verbose=0)\n",
    "\n",
    "print('Funkcja straty obliczona dla danych testowych: {:.4f} \\nDokładność uczenia obliczona dla danych testowych: {:.4f}'.format(*results))"
   ]
  },
  {
   "cell_type": "markdown",
   "metadata": {},
   "source": [
    "Uzyskane powyżej wyniki dla danych testowych wskazują na to, że model dokonuje poprawnych projekcji etykiet. Aby zilustrować model sieci neuronowych, np. pokazać utworzoną przez sieć nieliniową granicę decyzyjną i jej przebieg na zbiorze uczącym, można w pewnych przypadkach używać funkcji `plot_decision_regions` z biblioteki `mlxtend`, ale to temat na inną historię...\n",
    "<br><br>\n",
    "Na zakończenie zapiszę zbudowany model. Formatem zapisu będzie HDF5 - format plików służących do przechowywania dużych zbiorów danych. Zapisany model umieszczę w repozytorium."
   ]
  },
  {
   "cell_type": "code",
   "execution_count": 13,
   "metadata": {},
   "outputs": [],
   "source": [
    "model.save('model-klasyfikacji-iris.h5', \n",
    "           overwrite=True,\n",
    "           include_optimizer=True,\n",
    "           save_format='h5')"
   ]
  },
  {
   "cell_type": "markdown",
   "metadata": {},
   "source": [
    "### Literatura\n",
    "\n",
    "S. Raschka, V. Mirjalili - Python. Machine learning i deep learning. Biblioteki scikit-learn i TensorFlow 2. Wydanie III\n",
    "<br>\n",
    "A. C. Müller, S. Guido - Introduction to Machine Learning with Python A Guide for Data Scientists \n",
    "<br>\n",
    "P. Singh, A. Manure - Learn TensorFlow 2.0. Implement Machine Learning and Deep Learning Models with Python\n"
   ]
  }
 ],
 "metadata": {
  "kernelspec": {
   "display_name": "Python 3",
   "language": "python",
   "name": "python3"
  },
  "language_info": {
   "codemirror_mode": {
    "name": "ipython",
    "version": 3
   },
   "file_extension": ".py",
   "mimetype": "text/x-python",
   "name": "python",
   "nbconvert_exporter": "python",
   "pygments_lexer": "ipython3",
   "version": "3.7.6"
  }
 },
 "nbformat": 4,
 "nbformat_minor": 4
}
