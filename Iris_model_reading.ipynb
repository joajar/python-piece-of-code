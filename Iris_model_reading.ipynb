{
 "cells": [
  {
   "cell_type": "code",
   "execution_count": 1,
   "metadata": {},
   "outputs": [
    {
     "name": "stdout",
     "output_type": "stream",
     "text": [
      "Funkcja straty obliczona dla danych testowych: 0.0804 \n",
      "Dokładność uczenia obliczona dla danych testowych: 0.9778\n"
     ]
    }
   ],
   "source": [
    "from tensorflow import keras as kr\n",
    "import numpy as np\n",
    "from sklearn.model_selection import train_test_split\n",
    "from sklearn.datasets import load_iris\n",
    "\n",
    "iris_dataset = load_iris()\n",
    "iris_contatenated = np.concatenate((iris_dataset['data'], \n",
    "                                    kr.utils.to_categorical(iris_dataset['target'])), \n",
    "                                   axis=1)\n",
    "\n",
    "test_size_proportion = 0.3\n",
    "\n",
    "train, test = train_test_split(iris_contatenated, \n",
    "                               random_state=42, \n",
    "                               test_size=test_size_proportion)\n",
    "\n",
    "inputs_test, outputs_categorical_test = test[:, :4], test[:, 4:7]\n",
    "\n",
    "model_read = kr.models.load_model('model-klasyfikacji-iris.h5')\n",
    "results = model_read.evaluate(inputs_test, \n",
    "                         outputs_categorical_test, \n",
    "                         verbose=0)\n",
    "\n",
    "print('Funkcja straty obliczona dla danych testowych: {:.4f} \\nDokładność uczenia obliczona dla danych testowych: {:.4f}'.format(*results))"
   ]
  }
 ],
 "metadata": {
  "kernelspec": {
   "display_name": "Python 3",
   "language": "python",
   "name": "python3"
  },
  "language_info": {
   "codemirror_mode": {
    "name": "ipython",
    "version": 3
   },
   "file_extension": ".py",
   "mimetype": "text/x-python",
   "name": "python",
   "nbconvert_exporter": "python",
   "pygments_lexer": "ipython3",
   "version": "3.7.6"
  }
 },
 "nbformat": 4,
 "nbformat_minor": 4
}
